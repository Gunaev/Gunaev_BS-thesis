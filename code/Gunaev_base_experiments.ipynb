{
 "cells": [
  {
   "cell_type": "markdown",
   "metadata": {
    "colab_type": "text",
    "id": "sdpEpQ7Psnjf"
   },
   "source": [
    "\n",
    "\n",
    "Реализуем класс стохастических бандитов с бернулиевским распределением выигрышей. \n"
   ]
  },
  {
   "cell_type": "code",
   "execution_count": 20,
   "metadata": {},
   "outputs": [],
   "source": [
    "import numpy as np"
   ]
  },
  {
   "cell_type": "code",
   "execution_count": 146,
   "metadata": {
    "colab": {},
    "colab_type": "code",
    "id": "NCHGKX_ep332"
   },
   "outputs": [],
   "source": [
    "class BernoulliBandit:\n",
    "  #принимает на вход список из K>=2 чисел из [0,1]\n",
    "    def __init__(self, means):\n",
    "        self.means = np.array(means)\n",
    "        self.T = 0\n",
    "        self.realization = np.array([])\n",
    "        self.best_realization = np.array([])\n",
    "        self.best_mean = max(self.means)\n",
    "  \n",
    "  #Функция возвращает число ручек\n",
    "    def K(self):\n",
    "        return len(self.means)\n",
    "\n",
    "  #Принимает параметр 0 <= a <= K-1 и возвращает реализацию случайной величины \n",
    "  #X c P[X=1] равной среднему значению выигрыша ручки a+1\n",
    "    def pull(self, a):\n",
    "        self.T += 1\n",
    "        xi = np.random.binomial(1, self.means[a])\n",
    "        xi_best = np.random.binomial(1, self.best_mean)\n",
    "        self.realization = np.append(self.realization, xi)\n",
    "        self.best_realization = np.append(self.best_realization, xi_best)\n",
    "        return xi        \n",
    "\n",
    "  #Возвращает текущее значение регрета\n",
    "    def regret(self):\n",
    "        return sum(self.best_realization) - sum(self.realization)"
   ]
  },
  {
   "cell_type": "code",
   "execution_count": 116,
   "metadata": {},
   "outputs": [
    {
     "name": "stdout",
     "output_type": "stream",
     "text": [
      "[0. 0. 0. 1. 0. 1. 0.]\n",
      "[1. 1. 1. 0. 0. 0. 1.]\n",
      "2.0\n"
     ]
    }
   ],
   "source": [
    "bandit = BernoulliBandit([0.2, 0.3, 0.7, 0.1])\n",
    "bandit.pull(3)\n",
    "bandit.pull(0)\n",
    "bandit.pull(1)\n",
    "bandit.pull(2)\n",
    "bandit.pull(0)\n",
    "bandit.pull(0)\n",
    "bandit.pull(1)\n",
    "print(bandit.realization)\n",
    "print(bandit.best_realization)\n",
    "print(bandit.regret())"
   ]
  },
  {
   "cell_type": "markdown",
   "metadata": {
    "colab_type": "text",
    "id": "2mMLbKkDuvBk"
   },
   "source": [
    "\n",
    "\n",
    "Алгоритм \"Следуй за лидером\": \n",
    "\n",
    "\n",
    "1.   Сыграть каждое действие 1 раз\n",
    "2.   Играть действие (ручку) с максимальным на данный момент средним выигрышем \n",
    "\n",
    "P.S. То есть сначала мы играем каждую ручку. Полученые выигрыши - стартовое приближение для среднего выигрыша.\n",
    "\n",
    "Реализуем алгоритм \"Следуй за лидером\"\n",
    "\n"
   ]
  },
  {
   "cell_type": "code",
   "execution_count": 190,
   "metadata": {
    "colab": {},
    "colab_type": "code",
    "id": "B3r5dj2Qvn23"
   },
   "outputs": [],
   "source": [
    "def FollowTheLeader(bandit, T):\n",
    "    temp = np.zeros((bandit.K(), 3))\n",
    "    for i in range(bandit.K()):\n",
    "        bandit.pull(i)\n",
    "        temp[i, 0] = bandit.realization[-1]\n",
    "        temp[i, 1] = temp[i, 0]\n",
    "        temp[i, 2] = 1\n",
    "    for i in range(T - bandit.K()):\n",
    "        idx = temp.argmax(axis=0)[1]\n",
    "        bandit.pull(idx)\n",
    "        temp[idx, 0] += bandit.realization[-1]\n",
    "        temp[idx, 2] += 1\n",
    "        temp[idx, 1] = temp[idx, 0]/temp[idx, 2]\n",
    "    return bandit.regret()"
   ]
  },
  {
   "cell_type": "markdown",
   "metadata": {
    "colab_type": "text",
    "id": "Z9Ufvu8kv_a7"
   },
   "source": [
    "Реализуем алгоритм Explore-First"
   ]
  },
  {
   "cell_type": "code",
   "execution_count": 311,
   "metadata": {
    "colab": {},
    "colab_type": "code",
    "id": "DxK0lgH4wJBZ"
   },
   "outputs": [],
   "source": [
    "def ExploreFirst(bandit, T, k):\n",
    "    temp = np.zeros((bandit.K(), 3))\n",
    "    for j in range(k):\n",
    "        for i in range(bandit.K()):\n",
    "            bandit.pull(i)\n",
    "            temp[i, 0] += bandit.realization[-1]\n",
    "            temp[i, 2] += 1\n",
    "            temp[i, 1] = temp[i, 0]/temp[i, 2]\n",
    "    idx = temp.argmax(axis=0)[1]\n",
    "    for i in range(T - k*bandit.K()):\n",
    "        bandit.pull(idx)\n",
    "    return bandit.regret()"
   ]
  },
  {
   "cell_type": "markdown",
   "metadata": {
    "colab_type": "text",
    "id": "tonSEs7twgw9"
   },
   "source": [
    "\n",
    "Реализуем алгоритм $\\varepsilon$-Greedy"
   ]
  },
  {
   "cell_type": "code",
   "execution_count": 239,
   "metadata": {
    "colab": {},
    "colab_type": "code",
    "id": "uyt_p1HVwtNN"
   },
   "outputs": [],
   "source": [
    "def EGreedy(bandit, T, e):\n",
    "    temp = np.zeros((bandit.K(), 3))\n",
    "    bandit_len = bandit.K()\n",
    "    for i in range(T):\n",
    "        if np.random.binomial(1, e) == 1:\n",
    "            xi = np.random.randint(0, bandit_len)\n",
    "            bandit.pull(xi)\n",
    "            temp[xi, 0] += bandit.realization[-1]\n",
    "            temp[xi, 2] += 1\n",
    "            temp[xi, 1] = temp[xi, 0]/temp[xi, 2]\n",
    "        else:\n",
    "            idx = idx = temp.argmax(axis=0)[1]\n",
    "            bandit.pull(idx)\n",
    "            temp[idx, 0] += bandit.realization[-1]\n",
    "            temp[idx, 2] += 1\n",
    "            temp[idx, 1] = temp[idx, 0]/temp[idx, 2]\n",
    "    return bandit.regret()"
   ]
  },
  {
   "cell_type": "markdown",
   "metadata": {
    "colab_type": "text",
    "id": "CoHASbKRw4bR"
   },
   "source": [
    "Реализуем алгоритм Successive Elimination"
   ]
  },
  {
   "cell_type": "code",
   "execution_count": 138,
   "metadata": {},
   "outputs": [],
   "source": [
    "import math as m"
   ]
  },
  {
   "cell_type": "code",
   "execution_count": 357,
   "metadata": {
    "colab": {},
    "colab_type": "code",
    "id": "LzHoMMkcxTQH"
   },
   "outputs": [],
   "source": [
    "def SuccessiveElimination(bandit, T):\n",
    "    temp_set = {i for i in range(bandit.K())}\n",
    "    temp = np.zeros((bandit.K(), 5))\n",
    "    rounds = 0\n",
    "    while len(temp_set) > 1:\n",
    "        for i in temp_set:\n",
    "            rounds += 1\n",
    "            bandit.pull(i)\n",
    "            temp[i, 0] += bandit.realization[-1]\n",
    "            temp[i, 1] += 1\n",
    "            temp[i, 2] = temp[i, 0]/temp[i, 1]\n",
    "            temp[i, 3] = temp[i, 2] - 0.1*m.sqrt(2*m.log10(T)/temp[i, 1])\n",
    "            temp[i, 4] = temp[i, 2] + 0.1*m.sqrt(2*m.log10(T)/temp[i, 1])\n",
    "        max_av = np.max(temp, axis=0)[3]\n",
    "        rem_set = set()\n",
    "        for i in temp_set:\n",
    "            if temp[i][4] < max_av:\n",
    "                rem_set.add(i)\n",
    "        for i in rem_set:\n",
    "            temp_set.remove(i)\n",
    "    idx = list(temp_set)[0]\n",
    "    for i in range(T - rounds):\n",
    "        bandit.pull(idx)\n",
    "    return bandit.regret()"
   ]
  },
  {
   "cell_type": "markdown",
   "metadata": {
    "colab_type": "text",
    "id": "fULgCjgoxdIR"
   },
   "source": [
    "\n",
    "Реализуем алгоритм UCB1"
   ]
  },
  {
   "cell_type": "code",
   "execution_count": 254,
   "metadata": {
    "colab": {},
    "colab_type": "code",
    "id": "VWCDUokPxqyC"
   },
   "outputs": [],
   "source": [
    "def UCB(bandit, T):\n",
    "    temp = np.zeros((bandit.K(), 4))\n",
    "    for i in range(bandit.K()):\n",
    "        bandit.pull(i)\n",
    "        temp[i, 0] += bandit.realization[-1]\n",
    "        temp[i, 1] += 1\n",
    "        temp[i, 2] = temp[i, 0]/temp[i, 1]\n",
    "        temp[i, 3] = temp[i, 2] + 0.9*m.sqrt(2*m.log10(T)/temp[i, 1])\n",
    "    for i in range(T - bandit.K()):\n",
    "        idx = np.argmax(temp, axis=0)[3]\n",
    "        bandit.pull(idx)\n",
    "        temp[idx, 0] += bandit.realization[-1]\n",
    "        temp[idx, 1] += 1\n",
    "        temp[idx, 2] = temp[idx, 0]/temp[idx, 1]\n",
    "        temp[idx, 3] = temp[idx, 2] + 0.9*m.sqrt(2*m.log10(T)/temp[idx, 1])\n",
    "    return bandit.regret()"
   ]
  },
  {
   "cell_type": "markdown",
   "metadata": {
    "colab_type": "text",
    "id": "nzz1NPOKxwhD"
   },
   "source": [
    "Протестируем алгоритмы, реализованные выше для бандита из класса бернулли):\n",
    "\n",
    "\n",
    "1.   2 ручки ($\\mu_1=0.5$, $\\mu_2=0.6$), $T \\in \\{100, 200, \\dots, 1000\\}$,  Проведем 1000 симуляций.\n",
    "2.   10 ручек $(\\mu_1 = 0.4, \\dots, \\mu_{10}=0.85)$, $T \\in \\{100, 200, \\dots, 1000\\}$,  Проведем 1000 симуляций.\n",
    "3.   Построим график среднего регрета как функцию от $T$. Оценим качество алгоритмов.\n",
    "\n"
   ]
  },
  {
   "cell_type": "code",
   "execution_count": 323,
   "metadata": {},
   "outputs": [],
   "source": [
    "T_space = list(map(int, np.linspace(3000, 3600, 7)))\n",
    "res = np.zeros((6, 7))"
   ]
  },
  {
   "cell_type": "code",
   "execution_count": 300,
   "metadata": {},
   "outputs": [],
   "source": [
    "from tqdm import tqdm"
   ]
  },
  {
   "cell_type": "code",
   "execution_count": 324,
   "metadata": {},
   "outputs": [
    {
     "name": "stderr",
     "output_type": "stream",
     "text": [
      "100%|████████████████████████████████████████████████████████████████████████████████████| 7/7 [08:47<00:00, 78.13s/it]\n"
     ]
    }
   ],
   "source": [
    "for i in tqdm(range(7)):\n",
    "    for j in range(100):\n",
    "        bandit = BernoulliBandit([0.5, 0.6])\n",
    "        res[0, i] += FollowTheLeader(bandit, T_space[i])\n",
    "        bandit = BernoulliBandit([0.5, 0.6])\n",
    "        res[1, i] += ExploreFirst(bandit, T_space[i], 100)\n",
    "        bandit = BernoulliBandit([0.5, 0.6])\n",
    "        res[2, i] += EGreedy(bandit, T_space[i], 0.3)\n",
    "        bandit = BernoulliBandit([0.5, 0.6])\n",
    "        res[3, i] += SuccessiveElimination(bandit, T_space[i])\n",
    "        bandit = BernoulliBandit([0.5, 0.6])\n",
    "        res[4, i] += UCB(bandit, T_space[i])\n",
    "        bandit = BernoulliBandit([0.5, 0.6])\n",
    "        res[5, i] += RandomAlg(bandit, T_space[i])\n",
    "res /= 100"
   ]
  },
  {
   "cell_type": "code",
   "execution_count": 330,
   "metadata": {},
   "outputs": [
    {
     "data": {
      "text/plain": [
       "array([[146.52, 167.86, 153.41, 187.38, 184.75, 189.16, 174.39],\n",
       "       [ 30.48,  21.71,  29.28,  36.5 ,  47.41,  30.76,  25.84],\n",
       "       [ 48.08,  52.56,  54.64,  50.95,  59.11,  55.66,  59.31],\n",
       "       [217.53, 225.13, 208.54, 219.98, 215.36, 227.66, 212.03],\n",
       "       [ 25.62,  19.9 ,  28.93,  21.7 ,  22.69,  32.07,  29.  ],\n",
       "       [143.46, 153.  , 160.59, 164.48, 168.53, 175.49, 181.38]])"
      ]
     },
     "execution_count": 330,
     "metadata": {},
     "output_type": "execute_result"
    }
   ],
   "source": [
    "res"
   ]
  },
  {
   "cell_type": "code",
   "execution_count": 342,
   "metadata": {},
   "outputs": [],
   "source": [
    "def RandomAlg(bandit, T):\n",
    "    bandit_len = bandit.K()\n",
    "    for i in range(T):\n",
    "        bandit.pull(np.random.randint(0, bandit_len))\n",
    "    return bandit.regret()"
   ]
  },
  {
   "cell_type": "code",
   "execution_count": 343,
   "metadata": {},
   "outputs": [],
   "source": [
    "res2 = np.zeros((6, 7))"
   ]
  },
  {
   "cell_type": "code",
   "execution_count": 344,
   "metadata": {},
   "outputs": [],
   "source": [
    "mu = list(np.linspace(0.4, 0.85, 10))"
   ]
  },
  {
   "cell_type": "code",
   "execution_count": 345,
   "metadata": {},
   "outputs": [
    {
     "name": "stderr",
     "output_type": "stream",
     "text": [
      "\n",
      "  0%|                                                                                            | 0/7 [00:00<?, ?it/s]\n",
      " 14%|███████████▌                                                                     | 1/7 [10:38<1:03:48, 638.13s/it]\n",
      " 29%|███████████████████████▋                                                           | 2/7 [21:06<52:56, 635.23s/it]\n",
      " 43%|███████████████████████████████████▌                                               | 3/7 [31:45<42:24, 636.21s/it]\n",
      " 57%|███████████████████████████████████████████████▍                                   | 4/7 [42:37<32:02, 640.98s/it]\n",
      " 71%|███████████████████████████████████████████████████████████▎                       | 5/7 [53:41<21:35, 647.93s/it]\n",
      " 86%|█████████████████████████████████████████████████████████████████████▍           | 6/7 [1:04:47<10:53, 653.26s/it]\n",
      "100%|█████████████████████████████████████████████████████████████████████████████████| 7/7 [1:15:52<00:00, 656.97s/it]"
     ]
    }
   ],
   "source": [
    "for i in tqdm(range(7)):\n",
    "    for j in range(500):\n",
    "        bandit = BernoulliBandit(mu)\n",
    "        res2[0, i] += FollowTheLeader(bandit, T_space[i])\n",
    "        bandit = BernoulliBandit(mu)\n",
    "        res2[1, i] += ExploreFirst(bandit, T_space[i], 100)\n",
    "        bandit = BernoulliBandit(mu)\n",
    "        res2[2, i] += EGreedy(bandit, T_space[i], 0.3)\n",
    "        bandit = BernoulliBandit(mu)\n",
    "        res2[3, i] += SuccessiveElimination(bandit, T_space[i])\n",
    "        bandit = BernoulliBandit(mu)\n",
    "        res2[4, i] += UCB(bandit, T_space[i])\n",
    "        bandit = BernoulliBandit(mu)\n",
    "        res2[5, i] += RandomAlg(bandit, T_space[i])\n",
    "res2 /= 500"
   ]
  },
  {
   "cell_type": "code",
   "execution_count": 346,
   "metadata": {},
   "outputs": [
    {
     "data": {
      "text/plain": [
       "array([[ 137.278,  135.31 ,  149.142,  137.632,  153.272,  153.566,\n",
       "         168.532],\n",
       "       [ 249.26 ,  250.562,  253.16 ,  260.956,  257.344,  258.672,\n",
       "         259.542],\n",
       "       [ 230.052,  237.25 ,  242.522,  248.026,  256.48 ,  262.782,\n",
       "         272.088],\n",
       "       [1251.832, 1262.658, 1278.984, 1280.662, 1289.648, 1286.152,\n",
       "        1275.168],\n",
       "       [ 146.526,  149.506,  149.42 ,  154.188,  154.178,  155.718,\n",
       "         156.882],\n",
       "       [ 673.266,  698.44 ,  717.616,  743.428,  764.074,  784.148,\n",
       "         806.882]])"
      ]
     },
     "execution_count": 346,
     "metadata": {},
     "output_type": "execute_result"
    }
   ],
   "source": [
    "res2"
   ]
  },
  {
   "cell_type": "code",
   "execution_count": 341,
   "metadata": {},
   "outputs": [
    {
     "data": {
      "image/png": "[encoded data removed]",
      "text/plain": [
       "<Figure size 864x648 with 1 Axes>"
      ]
     },
     "metadata": {
      "needs_background": "light"
     },
     "output_type": "display_data"
    }
   ],
   "source": [
    "import matplotlib.pyplot as plt\n",
    "\n",
    "# Plot all ROC curves\n",
    "plt.figure(figsize=(12, 9))\n",
    "\n",
    "\n",
    "labels = ['FollowTheLeader', 'ExploreFirst', 'EGreedy', 'SuccessiveElimination', 'UCB', 'RandomAlg']\n",
    "for i in range(6):\n",
    "    plt.plot(T_space, res[i], label=labels[i])\n",
    "\n",
    "\n",
    "plt.xlim([3000., 3600.])\n",
    "plt.ylim([0.0, 250.])\n",
    "plt.xlabel('T')\n",
    "plt.ylabel('Average Regret')\n",
    "plt.title('Regret ~ T, $\\mu_1 = 0.5, \\mu_2 = 0.6$')\n",
    "plt.legend()\n",
    "plt.grid(True)\n",
    "plt.show()\n"
   ]
  },
  {
   "cell_type": "code",
   "execution_count": 364,
   "metadata": {},
   "outputs": [
    {
     "data": {
      "image/png": "[encoded data removed]",
      "text/plain": [
       "<Figure size 864x648 with 1 Axes>"
      ]
     },
     "metadata": {
      "needs_background": "light"
     },
     "output_type": "display_data"
    }
   ],
   "source": [
    "import matplotlib.pyplot as plt\n",
    "\n",
    "# Plot all ROC curves\n",
    "plt.figure(figsize=(12, 9))\n",
    "\n",
    "\n",
    "labels = ['FollowTheLeader', 'ExploreFirst', 'EGreedy', 'SuccessiveElimination', 'UCB', 'RandomAlg']\n",
    "for i in range(6):\n",
    "    plt.plot(T_space, res2[i], label=labels[i])\n",
    "\n",
    "\n",
    "plt.xlim([3000., 3600.])\n",
    "plt.ylim([0.0, 850.])\n",
    "plt.xlabel('T')\n",
    "plt.ylabel('Average Regret')\n",
    "plt.title('Regret ~ T, $\\mu_1 = 0.4,\\cdots, \\mu_10 = 0.85$')\n",
    "plt.legend()\n",
    "plt.grid(True)\n",
    "plt.show()\n"
   ]
  },
  {
   "cell_type": "code",
   "execution_count": null,
   "metadata": {},
   "outputs": [],
   "source": [
    "res[1:4:2] = 0"
   ]
  },
  {
   "cell_type": "code",
   "execution_count": 362,
   "metadata": {},
   "outputs": [
    {
     "name": "stderr",
     "output_type": "stream",
     "text": [
      "\n",
      "\n",
      "  0%|                                                                                            | 0/7 [00:00<?, ?it/s]\n",
      "\n",
      " 14%|████████████                                                                        | 1/7 [01:11<07:07, 71.32s/it]\n",
      "\n",
      " 29%|████████████████████████                                                            | 2/7 [02:26<06:02, 72.54s/it]\n",
      "\n",
      " 43%|████████████████████████████████████                                                | 3/7 [03:41<04:52, 73.11s/it]\n",
      "\n",
      " 57%|████████████████████████████████████████████████                                    | 4/7 [04:59<03:44, 74.75s/it]\n",
      "\n",
      " 71%|████████████████████████████████████████████████████████████                        | 5/7 [06:17<02:31, 75.74s/it]\n",
      "\n",
      " 86%|████████████████████████████████████████████████████████████████████████            | 6/7 [07:40<01:17, 77.85s/it]\n",
      "\n",
      "100%|████████████████████████████████████████████████████████████████████████████████████| 7/7 [09:08<00:00, 80.84s/it]"
     ]
    }
   ],
   "source": [
    "for i in tqdm(range(7)): #добавил в 6 алгоритме умножение радиуса на константу, результаты стали лучше.\n",
    "    for j in range(500):\n",
    "        res2[1, i] += ExploreFirst(bandit, T_space[i], 200)\n",
    "        bandit = BernoulliBandit(mu)\n",
    "        res2[3, i] += SuccessiveElimination(bandit, T_space[i])\n",
    "        bandit = BernoulliBandit(mu)\n",
    "res2[1:4:2] /= 500"
   ]
  },
  {
   "cell_type": "code",
   "execution_count": 363,
   "metadata": {},
   "outputs": [
    {
     "data": {
      "text/plain": [
       "array([[137.278, 135.31 , 149.142, 137.632, 153.272, 153.566, 168.532],\n",
       "       [454.396, 455.426, 459.2  , 458.934, 455.922, 456.702, 460.57 ],\n",
       "       [230.052, 237.25 , 242.522, 248.026, 256.48 , 262.782, 272.088],\n",
       "       [193.53 , 200.976, 190.154, 188.196, 187.556, 218.742, 220.892],\n",
       "       [146.526, 149.506, 149.42 , 154.188, 154.178, 155.718, 156.882],\n",
       "       [673.266, 698.44 , 717.616, 743.428, 764.074, 784.148, 806.882]])"
      ]
     },
     "execution_count": 363,
     "metadata": {},
     "output_type": "execute_result"
    }
   ],
   "source": [
    "res2"
   ]
  },
  {
   "cell_type": "markdown",
   "metadata": {},
   "source": [
    "В обоих примерах лучше всего работает алгоритм $UCB$, как и ожидалось. Увидел странности алгоритма $SuccessiveElimination$, в нем похоже нужно домножать радиус на что-то маленькое, так как если этого не делать, возможно, он не успевает нормально обучиться и отбросить плохие ручки, сначала я запустил этот алгоритм без домножения на константу, получилось, что он отрабатывает хуже чем рандомный алгоритм(когда на каждом раунде мы рандомно выбираем ручку), после домножения во втором примере, он отработал немного хуже, чем $UCB$. Также, странно, что во втором примере хорошо отработал первый алгоритм, на бандите с двумя ручками он показал плохой результат, если честно, не понял, с чем это связано. Алгоритмы $\\varepsilon-Greedy$ и $Explore First$ очень чувтсвительны к настройке, если в первом алгоритме давать маленькую вероятность для фазы exploration, он работает очень плохо, ровно как и если давать большую вероятность, во втором алгоритме также -- при маленьких $k$ не успевает найти хорошую ручку, при больших -- слишком часто ошибается в начале, поэтому здесь необходима подборка коэффициентов."
   ]
  },
  {
   "cell_type": "code",
   "execution_count": null,
   "metadata": {},
   "outputs": [],
   "source": []
  }
 ],
 "metadata": {
  "colab": {
   "collapsed_sections": [],
   "name": "Бандиты.ipynb",
   "provenance": []
  },
  "kernelspec": {
   "display_name": "Python 3",
   "language": "python",
   "name": "python3"
  },
  "language_info": {
   "codemirror_mode": {
    "name": "ipython",
    "version": 3
   },
   "file_extension": ".py",
   "mimetype": "text/x-python",
   "name": "python",
   "nbconvert_exporter": "python",
   "pygments_lexer": "ipython3",
   "version": "3.8.5"
  }
 },
 "nbformat": 4,
 "nbformat_minor": 1
}
